{
  "nbformat": 4,
  "nbformat_minor": 0,
  "metadata": {
    "colab": {
      "name": "Data Collection from Kaggle.ipynb",
      "provenance": [],
      "collapsed_sections": [],
      "authorship_tag": "ABX9TyPXx9t5H6EP5jaV4TzMloo8",
      "include_colab_link": true
    },
    "kernelspec": {
      "name": "python3",
      "display_name": "Python 3"
    }
  },
  "cells": [
    {
      "cell_type": "markdown",
      "metadata": {
        "id": "view-in-github",
        "colab_type": "text"
      },
      "source": [
        "<a href=\"https://colab.research.google.com/github/MdShahadatHossainbd/Data-Collection/blob/main/Data_Collection_from_Kaggle.ipynb\" target=\"_parent\"><img src=\"https://colab.research.google.com/assets/colab-badge.svg\" alt=\"Open In Colab\"/></a>"
      ]
    },
    {
      "cell_type": "code",
      "metadata": {
        "colab": {
          "base_uri": "https://localhost:8080/"
        },
        "id": "yKhS7C15NO3r",
        "outputId": "e2afb123-f5b8-49f3-9518-7142d44a494b"
      },
      "source": [
        "from google.colab import drive\n",
        "drive.mount('/content/gdrive')"
      ],
      "execution_count": null,
      "outputs": [
        {
          "output_type": "stream",
          "text": [
            "Drive already mounted at /content/gdrive; to attempt to forcibly remount, call drive.mount(\"/content/gdrive\", force_remount=True).\n"
          ],
          "name": "stdout"
        }
      ]
    },
    {
      "cell_type": "markdown",
      "metadata": {
        "id": "r1-LcyKAPA8Y"
      },
      "source": [
        " /content/gdrive/My Drive/kaggle is the path where \"kaggle.json\" is present in the Google Drive"
      ]
    },
    {
      "cell_type": "code",
      "metadata": {
        "id": "Ee87i0BCOw6V"
      },
      "source": [
        "import os\n",
        "os.environ['KAGGLE_CONFIG_DIR'] = \"/content/gdrive/My Drive/kaggle\""
      ],
      "execution_count": null,
      "outputs": []
    },
    {
      "cell_type": "markdown",
      "metadata": {
        "id": "OecZ27r1TGDR"
      },
      "source": [
        "kaggle dataset API:-> \"kaggle datasets download -d aalborguniversity/aau-rainsnow\"\n",
        "\n",
        "/content/gdrive/My Drive/kaggle is the path where store  kaggle dataset in the Google Drive "
      ]
    },
    {
      "cell_type": "code",
      "metadata": {
        "colab": {
          "base_uri": "https://localhost:8080/"
        },
        "id": "388ed1f4Ngol",
        "outputId": "aa409ca2-dd6a-49ac-e978-2c7c7e6559c6"
      },
      "source": [
        "!kaggle datasets download -d aalborguniversity/aau-rainsnow -p /content/gdrive/MyDrive/kaggle"
      ],
      "execution_count": null,
      "outputs": [
        {
          "output_type": "stream",
          "text": [
            "Downloading aau-rainsnow.zip to /content/gdrive/MyDrive/kaggle\n",
            "100% 3.15G/3.16G [02:28<00:00, 23.9MB/s]\n",
            "100% 3.16G/3.16G [02:28<00:00, 22.8MB/s]\n"
          ],
          "name": "stdout"
        }
      ]
    },
    {
      "cell_type": "markdown",
      "metadata": {
        "id": "jFAdphzNTt9i"
      },
      "source": [
        "This line code for unzip file.\n",
        "\n",
        "\"/content/gdrive/MyDrive/kaggle/aau-rainsnow.zip\" this line for where our dataset stay.\n",
        "\n",
        "\"/content/gdrive/MyDrive/kaggle\" this line for where our dataset store in Google Drive.\n"
      ]
    },
    {
      "cell_type": "code",
      "metadata": {
        "id": "T7Mi529hNy8U"
      },
      "source": [
        "!unzip -uq \"/content/gdrive/MyDrive/kaggle/aau-rainsnow.zip\" -d \"/content/gdrive/MyDrive/kaggle\""
      ],
      "execution_count": null,
      "outputs": []
    }
  ]
}